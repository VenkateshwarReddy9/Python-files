{
 "cells": [
  {
   "cell_type": "code",
   "execution_count": 6,
   "metadata": {},
   "outputs": [
    {
     "name": "stdout",
     "output_type": "stream",
     "text": [
      "enter a string : zxc123asd456qwe789\n",
      "9\n",
      "count is :  9 sum of digits is :  45\n"
     ]
    }
   ],
   "source": [
    "s = input('enter a string : ')\n",
    "i = 0\n",
    "count = 0\n",
    "sum = 0\n",
    "while i<len(s):\n",
    "        if s[i].isdigit():\n",
    "            count += 1\n",
    "            sum += int(s[i])\n",
    "        i += 1\n",
    "print(count)\n",
    "print('count is : ',count,'sum of digits is : ',sum)\n",
    "        "
   ]
  },
  {
   "cell_type": "code",
   "execution_count": 12,
   "metadata": {},
   "outputs": [
    {
     "name": "stdout",
     "output_type": "stream",
     "text": [
      "enter a number : 12\n",
      "1 2 3 4 5 6 7 8 9 10 11 12 "
     ]
    }
   ],
   "source": [
    "n = int(input('enter a number : '))\n",
    "for i in range(1,n+1):\n",
    "    print(i,end=' ')"
   ]
  },
  {
   "cell_type": "code",
   "execution_count": 6,
   "metadata": {},
   "outputs": [
    {
     "name": "stdout",
     "output_type": "stream",
     "text": [
      "enter a string : python\n",
      "p y t h o n \n",
      "p y t h o n \n",
      "p y t h o n "
     ]
    }
   ],
   "source": [
    "s = input('enter a string : ')\n",
    "i=0\n",
    "while i<len(s):\n",
    "    print(s[i],end=' ')\n",
    "    i += 1\n",
    "print()\n",
    "for i in range(0,len(s)):\n",
    "    print(s[i],end=' ')\n",
    "print()\n",
    "for i in s:\n",
    "    print(i,end=' ')"
   ]
  },
  {
   "cell_type": "markdown",
   "metadata": {},
   "source": [
    "## collection type data type :\n",
    "### list :\n",
    "1. for creating list use []\n",
    "2. lists are mutable\n",
    "3. lists are indexed\n",
    "4. lists are ordered\n",
    "5. list allows duplicate values\n",
    "6. it stores heterogenious values"
   ]
  },
  {
   "cell_type": "code",
   "execution_count": 13,
   "metadata": {},
   "outputs": [
    {
     "name": "stdout",
     "output_type": "stream",
     "text": [
      "True\n",
      "[456, 56.67]\n",
      "gnirts\n"
     ]
    }
   ],
   "source": [
    "list1 = [23,34,456,56.67,'string',True]\n",
    "print(list1[-1])\n",
    "print(list1[2:4])\n",
    "print(list1[-2][::-1])\n"
   ]
  },
  {
   "cell_type": "code",
   "execution_count": 15,
   "metadata": {},
   "outputs": [
    {
     "name": "stdout",
     "output_type": "stream",
     "text": [
      "before adding elements [34, 45, 56, 67]\n",
      "After adding elements:  [34, 45, 56, 67, 100, 200, 300]\n",
      "[34, 400, 300, 45, 100, 200, 300, 1, 2, 3]\n"
     ]
    }
   ],
   "source": [
    "list1 = [34,45,56,67]\n",
    "print('before adding elements',list1)\n",
    "list1.append(100)\n",
    "list1.append(200)\n",
    "list1.append(300)\n",
    "\n",
    "print('After adding elements: ',list1)\n",
    "list1.insert(1,400)\n",
    "list1.insert(2,300)\n",
    "list1.extend([1,2,3])\n",
    "list1.pop(5)\n",
    "list1.remove(56)\n",
    "print(list1)\n"
   ]
  },
  {
   "cell_type": "code",
   "execution_count": 16,
   "metadata": {},
   "outputs": [
    {
     "name": "stdout",
     "output_type": "stream",
     "text": [
      "[]\n"
     ]
    }
   ],
   "source": [
    "list1.clear()\n",
    "print(list1)"
   ]
  },
  {
   "cell_type": "code",
   "execution_count": 20,
   "metadata": {},
   "outputs": [
    {
     "data": {
      "text/plain": [
       "[34, 45, 56, 67, 100, 300]"
      ]
     },
     "execution_count": 20,
     "metadata": {},
     "output_type": "execute_result"
    }
   ],
   "source": [
    "list1= [34, 45, 56, 67, 100, 200, 300]\n",
    "list1.remove(200)\n",
    "list1"
   ]
  },
  {
   "cell_type": "code",
   "execution_count": 32,
   "metadata": {},
   "outputs": [
    {
     "data": {
      "text/plain": [
       "8"
      ]
     },
     "execution_count": 32,
     "metadata": {},
     "output_type": "execute_result"
    }
   ],
   "source": [
    "list1= [34, 45, 56, 67, 100, 200, 300,1,54,2,3]\n",
    "list1.sort(reverse = True)\n",
    "list1.reverse()\n",
    "list1.index(100)\n"
   ]
  },
  {
   "cell_type": "code",
   "execution_count": 36,
   "metadata": {},
   "outputs": [
    {
     "data": {
      "text/plain": [
       "1"
      ]
     },
     "execution_count": 36,
     "metadata": {},
     "output_type": "execute_result"
    }
   ],
   "source": [
    "list1.count(56)"
   ]
  },
  {
   "cell_type": "code",
   "execution_count": 61,
   "metadata": {},
   "outputs": [
    {
     "name": "stdout",
     "output_type": "stream",
     "text": [
      "[1, 2, 3, 34, 45, 54, 56, 67, 100, 200, 300, 99, 98, 75, 99, 98, 75, 99, 98, 75, 99, 98, 75, 99, 98, 75, 99, 98, 75, 99, 98, 75, 99, 98, 75, 99, 98, 75, 99, 98, 75, 99, 98, 75, 99, 98, 75]   [1, 2, 3, 34, 45, 54, 56, 67, 100, 200, 300, 99, 98, 75, 99, 98, 75, 99, 98, 75, 99, 98, 75, 99, 98, 75, 99, 98, 75, 99, 98, 75, 99, 98, 75, 99, 98, 75, 99, 98, 75, 99, 98, 75, 99, 98, 75]\n"
     ]
    },
    {
     "data": {
      "text/plain": [
       "[1,\n",
       " 2,\n",
       " 3,\n",
       " 34,\n",
       " 45,\n",
       " 54,\n",
       " 56,\n",
       " 67,\n",
       " 100,\n",
       " 200,\n",
       " 300,\n",
       " 99,\n",
       " 98,\n",
       " 75,\n",
       " 99,\n",
       " 98,\n",
       " 75,\n",
       " 99,\n",
       " 98,\n",
       " 75,\n",
       " 99,\n",
       " 98,\n",
       " 75,\n",
       " 99,\n",
       " 98,\n",
       " 75,\n",
       " 99,\n",
       " 98,\n",
       " 75,\n",
       " 99,\n",
       " 98,\n",
       " 75,\n",
       " 99,\n",
       " 98,\n",
       " 75,\n",
       " 99,\n",
       " 98,\n",
       " 75,\n",
       " 99,\n",
       " 98,\n",
       " 75,\n",
       " 99,\n",
       " 98,\n",
       " 75,\n",
       " 99,\n",
       " 98,\n",
       " 75]"
      ]
     },
     "execution_count": 61,
     "metadata": {},
     "output_type": "execute_result"
    }
   ],
   "source": [
    "list2 = list1\n",
    "print(list1,' ',list2)\n",
    "list2\n",
    "list1"
   ]
  },
  {
   "cell_type": "code",
   "execution_count": 66,
   "metadata": {
    "collapsed": true
   },
   "outputs": [
    {
     "name": "stdout",
     "output_type": "stream",
     "text": [
      "[1, 2, 3, 34, 45, 54, 56, 67, 100, 200, 300, 99, 98, 75, 99, 98, 75, 99, 98, 75, 99, 98, 75, 99, 98, 75, 99, 98, 75, 99, 98, 75, 99, 98, 75, 99, 98, 75, 99, 98, 75, 99, 98, 75, 99, 98, 75] [1, 2, 3, 34, 45, 54, 56, 67, 100, 200, 300, 99, 98, 75, 99, 98, 75, 99, 98, 75, 99, 98, 75, 99, 98, 75, 99, 98, 75, 99, 98, 75, 99, 98, 75, 99, 98, 75, 99, 98, 75, 99, 98, 75, 99, 98, 75] []\n"
     ]
    }
   ],
   "source": [
    "print(list1,list2,list3)\n",
    "list3.clear()"
   ]
  },
  {
   "cell_type": "code",
   "execution_count": 97,
   "metadata": {
    "scrolled": true
   },
   "outputs": [
    {
     "name": "stdout",
     "output_type": "stream",
     "text": [
      "[4, 16, 25, 36, 64, 81, 49]\n",
      "[4, 16, 25, 36, 64, 81, 49]\n"
     ]
    }
   ],
   "source": [
    "l1=[2,4,5,6,8,9,7]\n",
    "l2=[]\n",
    "l3=[]\n",
    "for i in range(0,len(l1)):\n",
    "    l2.append(l1[i]**2)\n",
    "print(l2)\n",
    "for i in l1:\n",
    "    l3.append(i**2)\n",
    "print(l2)"
   ]
  },
  {
   "cell_type": "code",
   "execution_count": 98,
   "metadata": {},
   "outputs": [
    {
     "name": "stdout",
     "output_type": "stream",
     "text": [
      "6\n",
      "1\n",
      "[1]\n",
      "1\n",
      "1\n",
      "[1, 1]\n",
      "2\n",
      "2\n",
      "[1, 1, 2]\n",
      "4\n",
      "6\n",
      "[1, 1, 2, 6]\n",
      "10\n",
      "12\n",
      "[1, 1, 2, 6, 12]\n",
      "22\n",
      "45\n",
      "[1, 1, 2, 6, 12, 45]\n",
      "67\n"
     ]
    }
   ],
   "source": [
    "li = []\n",
    "n = int(input())\n",
    "for i in range(n):\n",
    "    li.append(int(input()))\n",
    "    print(li)\n",
    "    print(sum(li))"
   ]
  },
  {
   "cell_type": "code",
   "execution_count": null,
   "metadata": {},
   "outputs": [],
   "source": [
    "tup1 = (23,34,5)\n",
    "x,y,z = tup1\n",
    "print(x,y,z)"
   ]
  },
  {
   "cell_type": "markdown",
   "metadata": {},
   "source": [
    "### dictionary\n",
    "#### syntax:{key1:value1,key2:value2........}\n",
    "#### key:\n",
    "1. key should be unique\n",
    "2. key should be immutable ---->int,float,single,tuple."
   ]
  },
  {
   "cell_type": "code",
   "execution_count": 109,
   "metadata": {},
   "outputs": [
    {
     "data": {
      "text/plain": [
       "{'name': 'venku', 'course': 'c++', 'address': 'hyderabad', 'college': 'Gitam'}"
      ]
     },
     "execution_count": 109,
     "metadata": {},
     "output_type": "execute_result"
    }
   ],
   "source": [
    "dict1 = {'name':'venku','course':'python','address':'hyderabad'}\n",
    "dict1['course'] = 'c++'\n",
    "dict1['college']='Gitam'\n",
    "dict1"
   ]
  },
  {
   "cell_type": "code",
   "execution_count": 116,
   "metadata": {},
   "outputs": [
    {
     "name": "stdout",
     "output_type": "stream",
     "text": [
      "{'name': 'venku', 'course': 'c++', 'college': 'Gitam'}\n"
     ]
    }
   ],
   "source": [
    "#del dict1['address']\n",
    "print(dict1)"
   ]
  },
  {
   "cell_type": "markdown",
   "metadata": {},
   "source": [
    "## Function:\n"
   ]
  },
  {
   "cell_type": "code",
   "execution_count": 119,
   "metadata": {},
   "outputs": [
    {
     "name": "stdout",
     "output_type": "stream",
     "text": [
      "30\n"
     ]
    },
    {
     "data": {
      "text/plain": [
       "300"
      ]
     },
     "execution_count": 119,
     "metadata": {},
     "output_type": "execute_result"
    }
   ],
   "source": [
    "def add(x,y):\n",
    "    return x+y\n",
    "\n",
    "print(add(10,20))\n",
    "add(100,200)"
   ]
  },
  {
   "cell_type": "code",
   "execution_count": 123,
   "metadata": {},
   "outputs": [
    {
     "name": "stdout",
     "output_type": "stream",
     "text": [
      "2\n",
      "3\n",
      "4\n",
      "5\n",
      "6\n",
      "7\n",
      "8\n",
      "9\n",
      "10\n"
     ]
    }
   ],
   "source": [
    "x=2\n",
    "while x<=10:\n",
    "    print(x)\n",
    "    x=x+1\n",
    "    "
   ]
  }
 ],
 "metadata": {
  "kernelspec": {
   "display_name": "Python 3",
   "language": "python",
   "name": "python3"
  },
  "language_info": {
   "codemirror_mode": {
    "name": "ipython",
    "version": 3
   },
   "file_extension": ".py",
   "mimetype": "text/x-python",
   "name": "python",
   "nbconvert_exporter": "python",
   "pygments_lexer": "ipython3",
   "version": "3.7.4"
  }
 },
 "nbformat": 4,
 "nbformat_minor": 2
}
